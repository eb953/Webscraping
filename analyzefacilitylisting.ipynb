{
 "cells": [
  {
   "cell_type": "markdown",
   "metadata": {},
   "source": [
    "<h1>Basic Analysis of Healthcare Facility Listing<h1>"
   ]
  },
  {
   "cell_type": "markdown",
   "metadata": {},
   "source": [
    "<h3> This data is from the California Health and Human Services Open Data Portal <h3>"
   ]
  },
  {
   "cell_type": "code",
   "execution_count": 4,
   "metadata": {},
   "outputs": [],
   "source": [
    "import requests \n",
    "import pandas as pd "
   ]
  },
  {
   "cell_type": "code",
   "execution_count": 5,
   "metadata": {},
   "outputs": [],
   "source": [
    "#import url csv from portal\n",
    "url = 'https://data.chhs.ca.gov/dataset/59d9abe7-2664-407a-a5aa-f89a866f3381/resource/641c5557-7d65-4379-8fea-6b7dedbda40b/download/current-healthcare-facility-listing.csv'\n",
    "\n",
    "response = requests.get(url)"
   ]
  },
  {
   "cell_type": "code",
   "execution_count": 6,
   "metadata": {},
   "outputs": [
    {
     "name": "stdout",
     "output_type": "stream",
     "text": [
      "CSV file downloaded successfully.\n",
      "    OSHPD_ID                                      FACILITY_NAME LICENSE_NUM  \\\n",
      "0  106010042                   JOHN GEORGE PSYCHIATRIC HOSPITAL   140000046   \n",
      "1  106010735                                   ALAMEDA HOSPITAL   140000002   \n",
      "2  106010739  ALTA BATES SUMMIT MEDICAL CENTER-ALTA BATES CA...   140000004   \n",
      "3  106010776           UCSF BENIOFF CHILDREN'S HOSPITAL OAKLAND   140000015   \n",
      "4  106010811                                  FAIRMONT HOSPITAL   140000046   \n",
      "\n",
      "      FACILITY_LEVEL_DESC              DBA_ADDRESS1     DBA_CITY  \\\n",
      "0  Distinct Part Facility       2060 FAIRMONT DRIVE  SAN LEANDRO   \n",
      "1         Parent Facility          2070 CLINTON AVE      ALAMEDA   \n",
      "2         Parent Facility         2450 ASHBY AVENUE     BERKELEY   \n",
      "3         Parent Facility               747 52ND ST      OAKLAND   \n",
      "4   Consolidated Facility  15400 FOOTHILL BOULEVARD  SAN LEANDRO   \n",
      "\n",
      "   DBA_ZIP_CODE  COUNTY_CODE COUNTY_NAME ER_SERVICE_LEVEL_DESC  \\\n",
      "0         94578            1     Alameda                   NaN   \n",
      "1         94501            1     Alameda     Emergency - Basic   \n",
      "2         94705            1     Alameda     Emergency - Basic   \n",
      "3         94609            1     Alameda     Emergency - Basic   \n",
      "4         94578            1     Alameda                   NaN   \n",
      "\n",
      "  TOTAL_NUMBER_BEDS FACILITY_STATUS_DESC FACILITY_STATUS_DATE  \\\n",
      "0                80                 Open           2022-11-01   \n",
      "1               101                 Open           1946-01-01   \n",
      "2               339                 Open           1946-01-02   \n",
      "3               155                 Open           1946-01-01   \n",
      "4               109                 Open           1953-07-01   \n",
      "\n",
      "  LICENSE_TYPE_DESC        LICENSE_CATEGORY_DESC   LATITUDE   LONGITUDE  \n",
      "0          Hospital  General Acute Care Hospital  37.710553 -122.120256  \n",
      "1          Hospital  General Acute Care Hospital  37.762680 -122.254106  \n",
      "2          Hospital  General Acute Care Hospital  37.855628 -122.257501  \n",
      "3          Hospital  General Acute Care Hospital  37.836938 -122.267231  \n",
      "4          Hospital  General Acute Care Hospital  37.708168 -122.119823  \n"
     ]
    }
   ],
   "source": [
    "# Check if the request was successful\n",
    "if response.status_code == 200:\n",
    "    # Save the content of the response to a CSV file\n",
    "    with open('current-healthcare-facility-listing.csv', 'wb') as file:\n",
    "        file.write(response.content)\n",
    "    print(\"CSV file downloaded successfully.\")\n",
    "    \n",
    "    # Load the CSV file into a pandas DataFrame\n",
    "    df = pd.read_csv('current-healthcare-facility-listing.csv')\n",
    "    \n",
    "    # Display the first few rows of the DataFrame\n",
    "    print(df.head())\n",
    "else:\n",
    "    print(f\"Failed to download the file. Status code: {response.status_code}\")"
   ]
  },
  {
   "cell_type": "markdown",
   "metadata": {},
   "source": [
    "<h3>Data has successfully been transfered to panda's dataframe for analysis<h3>"
   ]
  },
  {
   "cell_type": "code",
   "execution_count": null,
   "metadata": {},
   "outputs": [],
   "source": []
  },
  {
   "cell_type": "code",
   "execution_count": null,
   "metadata": {},
   "outputs": [],
   "source": []
  }
 ],
 "metadata": {
  "kernelspec": {
   "display_name": "base",
   "language": "python",
   "name": "python3"
  },
  "language_info": {
   "codemirror_mode": {
    "name": "ipython",
    "version": 3
   },
   "file_extension": ".py",
   "mimetype": "text/x-python",
   "name": "python",
   "nbconvert_exporter": "python",
   "pygments_lexer": "ipython3",
   "version": "3.12.4"
  }
 },
 "nbformat": 4,
 "nbformat_minor": 2
}
